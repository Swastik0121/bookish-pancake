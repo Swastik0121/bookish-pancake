{
  "nbformat": 4,
  "nbformat_minor": 0,
  "metadata": {
    "colab": {
      "provenance": [],
      "authorship_tag": "ABX9TyN3i/nRZCJpbWB/nAWOLjTc",
      "include_colab_link": true
    },
    "kernelspec": {
      "name": "python3",
      "display_name": "Python 3"
    },
    "language_info": {
      "name": "python"
    }
  },
  "cells": [
    {
      "cell_type": "markdown",
      "metadata": {
        "id": "view-in-github",
        "colab_type": "text"
      },
      "source": [
        "<a href=\"https://colab.research.google.com/github/Swastik0121/bookish-pancake/blob/main/hadoop_lab_4.ipynb\" target=\"_parent\"><img src=\"https://colab.research.google.com/assets/colab-badge.svg\" alt=\"Open In Colab\"/></a>"
      ]
    },
    {
      "cell_type": "code",
      "execution_count": 1,
      "metadata": {
        "id": "ov4Ie4e0oMsh"
      },
      "outputs": [],
      "source": [
        "!touch reduser.py"
      ]
    },
    {
      "cell_type": "code",
      "source": [
        "!touch wc_counter.py"
      ],
      "metadata": {
        "id": "JRxMBhXesDEZ"
      },
      "execution_count": 2,
      "outputs": []
    },
    {
      "cell_type": "code",
      "source": [
        "!touch sample.txt"
      ],
      "metadata": {
        "id": "STZmnUU0sJ8l"
      },
      "execution_count": 3,
      "outputs": []
    },
    {
      "cell_type": "code",
      "source": [
        "!echo \"swastik swastik swastik \" > sample.txt"
      ],
      "metadata": {
        "id": "2IH6J2TLsNRT"
      },
      "execution_count": 6,
      "outputs": []
    },
    {
      "cell_type": "code",
      "source": [
        "cat word_count_data.txt | python mapper_sk.py |sort -k1,1| python reducer_sk.py\n"
      ],
      "metadata": {
        "colab": {
          "base_uri": "https://localhost:8080/"
        },
        "id": "1ywcC_v0si4o",
        "outputId": "d6bf7a35-cb15-49e6-f302-a52f2ce593ae"
      },
      "execution_count": 19,
      "outputs": [
        {
          "output_type": "stream",
          "name": "stdout",
          "text": [
            "gxd\t1\n",
            "samdg\t1\n",
            "sid\t1\n",
            "ssaaed\t1\n",
            "swastik\t3\n",
            "vc\t1\n",
            "xc\t1\n"
          ]
        }
      ]
    },
    {
      "cell_type": "code",
      "source": [],
      "metadata": {
        "id": "R9gnvBahuqHI"
      },
      "execution_count": null,
      "outputs": []
    }
  ]
}